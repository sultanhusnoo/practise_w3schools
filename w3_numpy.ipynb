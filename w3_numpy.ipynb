{
 "cells": [
  {
   "cell_type": "code",
   "execution_count": 3,
   "id": "ac127879",
   "metadata": {},
   "outputs": [],
   "source": [
    "import numpy as np\n",
    "from numpy import random"
   ]
  },
  {
   "cell_type": "code",
   "execution_count": null,
   "id": "75722604",
   "metadata": {},
   "outputs": [],
   "source": []
  },
  {
   "cell_type": "code",
   "execution_count": 19,
   "id": "cb382d5a",
   "metadata": {},
   "outputs": [
    {
     "name": "stdout",
     "output_type": "stream",
     "text": [
      "{7: 59, 9: 7, 3: 8, 5: 26}\n"
     ]
    }
   ],
   "source": [
    "x = random.choice([3, 5, 7, 9], p=[0.1, 0.25, 0.55, 0.1], size=(100))\n",
    "\n",
    "my_x = set(x)\n",
    "\n",
    "from collections import Counter\n",
    "\n",
    "my_count = dict(Counter(x))\n",
    "\n",
    "print(my_count)\n",
    "\n",
    "my_x = my_count.keys()\n",
    "my_y = my_count.values()"
   ]
  },
  {
   "cell_type": "code",
   "execution_count": null,
   "id": "ab55c89d",
   "metadata": {},
   "outputs": [],
   "source": []
  },
  {
   "cell_type": "code",
   "execution_count": null,
   "id": "f93bb3d9",
   "metadata": {},
   "outputs": [],
   "source": []
  },
  {
   "cell_type": "markdown",
   "id": "de626a34",
   "metadata": {},
   "source": [
    "### Split array with one missing element"
   ]
  },
  {
   "cell_type": "code",
   "execution_count": 45,
   "id": "690ea994",
   "metadata": {},
   "outputs": [
    {
     "data": {
      "text/plain": [
       "[array([0, 1, 2, 3]),\n",
       " array([4, 5, 6, 7]),\n",
       " array([ 8,  9, 10, 11]),\n",
       " array([12, 13, 14])]"
      ]
     },
     "execution_count": 45,
     "metadata": {},
     "output_type": "execute_result"
    }
   ],
   "source": [
    "arr6 = np.array(range(15))\n",
    "np.array_split(arr6,4)"
   ]
  },
  {
   "cell_type": "code",
   "execution_count": null,
   "id": "702ea75a",
   "metadata": {},
   "outputs": [],
   "source": []
  },
  {
   "cell_type": "markdown",
   "id": "e80d78ac",
   "metadata": {},
   "source": [
    "### Array stack"
   ]
  },
  {
   "cell_type": "code",
   "execution_count": 39,
   "id": "af40c660",
   "metadata": {},
   "outputs": [
    {
     "name": "stdout",
     "output_type": "stream",
     "text": [
      "[[34 56 78]\n",
      " [25 32 17]]\n",
      "\n",
      "\n",
      "[[34 25]\n",
      " [56 32]\n",
      " [78 17]]\n",
      "\n",
      "\n",
      "[[[34 25]\n",
      "  [56 32]\n",
      "  [78 17]]]\n"
     ]
    }
   ],
   "source": [
    "arr1 = np.array([34,56,78])\n",
    "arr2 = np.array([25,32,17])\n",
    "arr3 = np.stack((arr1,arr2))\n",
    "arr4 = np.stack((arr1,arr2),axis=1)\n",
    "arr5 = np.dstack((arr1,arr2))\n",
    "print(arr3),print(\"\\n\")\n",
    "print(arr4),print(\"\\n\")\n",
    "print(arr5)\n"
   ]
  },
  {
   "cell_type": "code",
   "execution_count": null,
   "id": "e5a8fecb",
   "metadata": {},
   "outputs": [],
   "source": []
  },
  {
   "cell_type": "markdown",
   "id": "35ebccee",
   "metadata": {},
   "source": [
    "### Enumerate items from a 2D array into a dictionary"
   ]
  },
  {
   "cell_type": "code",
   "execution_count": 31,
   "id": "1a003b60",
   "metadata": {},
   "outputs": [
    {
     "data": {
      "text/plain": [
       "{(0, 0): 1, (0, 1): 2, (0, 2): 3, (1, 0): 4, (1, 1): 5, (1, 2): 6}"
      ]
     },
     "execution_count": 31,
     "metadata": {},
     "output_type": "execute_result"
    }
   ],
   "source": [
    "my_arr_4 = np.array([[1,2,3],[4,5,6]])\n",
    "my_dict_1 = {}\n",
    "for kx,vx in np.ndenumerate(my_arr_4):\n",
    "    my_dict_1[kx] = vx\n",
    "my_dict_1"
   ]
  },
  {
   "cell_type": "code",
   "execution_count": null,
   "id": "d0dd07f3",
   "metadata": {},
   "outputs": [],
   "source": []
  },
  {
   "cell_type": "markdown",
   "id": "a1310bcd",
   "metadata": {},
   "source": [
    "### Enumerate items from an array into a dictionary"
   ]
  },
  {
   "cell_type": "code",
   "execution_count": 19,
   "id": "c85478b5",
   "metadata": {},
   "outputs": [
    {
     "data": {
      "text/plain": [
       "array([ 25,  30,  35,  40,  45,  50,  55,  60,  65,  70,  75,  80,  85,\n",
       "        90,  95, 100, 105, 110, 115, 120, 125, 130, 135, 140, 145, 150,\n",
       "       155, 160, 165, 170, 175, 180, 185, 190, 195, 200, 205, 210, 215,\n",
       "       220, 225, 230, 235, 240, 245, 250, 255, 260, 265, 270, 275, 280,\n",
       "       285, 290, 295, 300, 305, 310, 315, 320, 325, 330, 335, 340, 345,\n",
       "       350, 355, 360, 365, 370, 375, 380, 385, 390, 395, 400, 405, 410,\n",
       "       415, 420, 425, 430, 435, 440, 445, 450, 455, 460, 465, 470, 475,\n",
       "       480, 485, 490, 495])"
      ]
     },
     "execution_count": 19,
     "metadata": {},
     "output_type": "execute_result"
    }
   ],
   "source": [
    "my_arr_3 = np.array(range(25,500,5))\n",
    "my_arr_3"
   ]
  },
  {
   "cell_type": "code",
   "execution_count": 27,
   "id": "066e5448",
   "metadata": {},
   "outputs": [
    {
     "name": "stdout",
     "output_type": "stream",
     "text": [
      "{'0': 25, '1': 30, '2': 35, '3': 40, '4': 45, '5': 50, '6': 55, '7': 60, '8': 65, '9': 70, '10': 75, '11': 80, '12': 85, '13': 90, '14': 95, '15': 100, '16': 105, '17': 110, '18': 115, '19': 120, '20': 125, '21': 130, '22': 135, '23': 140, '24': 145, '25': 150, '26': 155, '27': 160, '28': 165, '29': 170, '30': 175, '31': 180, '32': 185, '33': 190, '34': 195, '35': 200, '36': 205, '37': 210, '38': 215, '39': 220, '40': 225, '41': 230, '42': 235, '43': 240, '44': 245, '45': 250, '46': 255, '47': 260, '48': 265, '49': 270, '50': 275, '51': 280, '52': 285, '53': 290, '54': 295, '55': 300, '56': 305, '57': 310, '58': 315, '59': 320, '60': 325, '61': 330, '62': 335, '63': 340, '64': 345, '65': 350, '66': 355, '67': 360, '68': 365, '69': 370, '70': 375, '71': 380, '72': 385, '73': 390, '74': 395, '75': 400, '76': 405, '77': 410, '78': 415, '79': 420, '80': 425, '81': 430, '82': 435, '83': 440, '84': 445, '85': 450, '86': 455, '87': 460, '88': 465, '89': 470, '90': 475, '91': 480, '92': 485, '93': 490, '94': 495}\n"
     ]
    }
   ],
   "source": [
    "my_dict = {}\n",
    "for kx,vx in np.ndenumerate(my_arr_3):\n",
    "    my_dict[str(kx[0])] = vx\n",
    "print(my_dict)\n",
    "    "
   ]
  },
  {
   "cell_type": "code",
   "execution_count": null,
   "id": "11dd7f8d",
   "metadata": {},
   "outputs": [],
   "source": []
  },
  {
   "cell_type": "markdown",
   "id": "e5fefc52",
   "metadata": {},
   "source": [
    "### Converting numbers to string from an array"
   ]
  },
  {
   "cell_type": "code",
   "execution_count": 17,
   "id": "b3a22036",
   "metadata": {},
   "outputs": [
    {
     "name": "stdout",
     "output_type": "stream",
     "text": [
      "b'1'\n",
      "b'2'\n",
      "b'3'\n",
      "b'4'\n",
      "b'5'\n",
      "b'6'\n"
     ]
    }
   ],
   "source": [
    "for y in np.nditer(my_arr_2, flags=['buffered'], op_dtypes='S'):\n",
    "    print(y)"
   ]
  },
  {
   "cell_type": "markdown",
   "id": "adb68e38",
   "metadata": {},
   "source": [
    "### List all elements of array irrespective of how many dimensions array has"
   ]
  },
  {
   "cell_type": "code",
   "execution_count": 8,
   "id": "287dc831",
   "metadata": {},
   "outputs": [
    {
     "name": "stdout",
     "output_type": "stream",
     "text": [
      "1\n",
      "2\n",
      "3\n",
      "4\n",
      "5\n",
      "6\n"
     ]
    }
   ],
   "source": [
    "my_arr_2 = np.array([[1, 2, 3],[4, 5, 6]])\n",
    "for x in np.nditer(my_arr_2):\n",
    "    print(x)"
   ]
  },
  {
   "cell_type": "markdown",
   "id": "37171041",
   "metadata": {},
   "source": [
    "### Convert 1D array to 3D array"
   ]
  },
  {
   "cell_type": "code",
   "execution_count": 15,
   "id": "48a31069",
   "metadata": {},
   "outputs": [
    {
     "data": {
      "text/plain": [
       "array([[[ 0,  1,  2,  3,  4,  5,  6,  7,  8,  9, 10, 11, 12, 13, 14, 15,\n",
       "         16, 17, 18, 19, 20, 21, 22, 23, 24, 25, 26, 27, 28, 29, 30, 31,\n",
       "         32, 33, 34, 35, 36, 37, 38, 39, 40, 41, 42, 43, 44, 45, 46, 47,\n",
       "         48, 49, 50, 51, 52, 53, 54, 55, 56, 57, 58, 59, 60, 61, 62, 63]]])"
      ]
     },
     "execution_count": 15,
     "metadata": {},
     "output_type": "execute_result"
    }
   ],
   "source": [
    "my_arr_1 = np.array(range(64),ndmin=3)\n",
    "my_arr_1"
   ]
  },
  {
   "cell_type": "markdown",
   "id": "012b0b3f",
   "metadata": {},
   "source": [
    "### basics"
   ]
  },
  {
   "cell_type": "code",
   "execution_count": 6,
   "id": "35733e92",
   "metadata": {},
   "outputs": [
    {
     "data": {
      "text/plain": [
       "array([0, 1, 2, 3, 4])"
      ]
     },
     "execution_count": 6,
     "metadata": {},
     "output_type": "execute_result"
    }
   ],
   "source": [
    "my_array = np.array(range(5))\n",
    "my_array"
   ]
  },
  {
   "cell_type": "code",
   "execution_count": 7,
   "id": "b02bff11",
   "metadata": {},
   "outputs": [
    {
     "name": "stdout",
     "output_type": "stream",
     "text": [
      "1.20.2\n"
     ]
    }
   ],
   "source": [
    "print(np.__version__)"
   ]
  },
  {
   "cell_type": "code",
   "execution_count": null,
   "id": "2a9b31ae",
   "metadata": {},
   "outputs": [],
   "source": []
  }
 ],
 "metadata": {
  "kernelspec": {
   "display_name": "Python 3",
   "language": "python",
   "name": "python3"
  },
  "language_info": {
   "codemirror_mode": {
    "name": "ipython",
    "version": 3
   },
   "file_extension": ".py",
   "mimetype": "text/x-python",
   "name": "python",
   "nbconvert_exporter": "python",
   "pygments_lexer": "ipython3",
   "version": "3.9.9"
  }
 },
 "nbformat": 4,
 "nbformat_minor": 5
}
